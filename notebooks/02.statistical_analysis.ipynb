{
 "cells": [
  {
   "cell_type": "code",
   "id": "initial_id",
   "metadata": {
    "collapsed": true,
    "ExecuteTime": {
     "end_time": "2024-10-12T16:52:05.143856Z",
     "start_time": "2024-10-12T16:52:04.776481Z"
    }
   },
   "source": [
    "import pandas as pd\n",
    "import numpy as np\n",
    "import matplotlib.pyplot as plt\n",
    "import os\n",
    "\n",
    "\n",
    "os.chdir(\"C:/Users/dvdda/OneDrive/Escritorio/FastApiProjects/pythonProject2\")\n",
    "print(\"Updated Working Directory:\", os.getcwd())\n",
    "\n",
    "# Define file path\n",
    "file_path = 'data/raw/mv_newspapers_articles_202410120953.csv' \n",
    "\n",
    "# Load the dataset\n",
    "data = pd.read_csv(file_path)\n",
    "\n",
    "# Convert 'publicate_date' to datetime format\n",
    "data['publicate_date'] = pd.to_datetime(data['publicate_date'])\n",
    "\n",
    "\n",
    "data.head()\n",
    "\n"
   ],
   "outputs": [
    {
     "name": "stdout",
     "output_type": "stream",
     "text": [
      "Updated Working Directory: C:\\Users\\dvdda\\OneDrive\\Escritorio\\FastApiProjects\\pythonProject2\n"
     ]
    },
    {
     "data": {
      "text/plain": [
       "   id_newspaper_article publicate_date  amount  tn_id_type_newspaper  \\\n",
       "0                     1     2024-03-01     116                     1   \n",
       "1                     2     2024-03-02     111                     1   \n",
       "2                     3     2024-03-03     106                     1   \n",
       "3                     4     2024-03-04     119                     1   \n",
       "4                     5     2024-03-05     115                     1   \n",
       "\n",
       "   type_name  id_country country_name  \n",
       "0  El Tiempo           1     Colombia  \n",
       "1  El Tiempo           1     Colombia  \n",
       "2  El Tiempo           1     Colombia  \n",
       "3  El Tiempo           1     Colombia  \n",
       "4  El Tiempo           1     Colombia  "
      ],
      "text/html": [
       "<div>\n",
       "<style scoped>\n",
       "    .dataframe tbody tr th:only-of-type {\n",
       "        vertical-align: middle;\n",
       "    }\n",
       "\n",
       "    .dataframe tbody tr th {\n",
       "        vertical-align: top;\n",
       "    }\n",
       "\n",
       "    .dataframe thead th {\n",
       "        text-align: right;\n",
       "    }\n",
       "</style>\n",
       "<table border=\"1\" class=\"dataframe\">\n",
       "  <thead>\n",
       "    <tr style=\"text-align: right;\">\n",
       "      <th></th>\n",
       "      <th>id_newspaper_article</th>\n",
       "      <th>publicate_date</th>\n",
       "      <th>amount</th>\n",
       "      <th>tn_id_type_newspaper</th>\n",
       "      <th>type_name</th>\n",
       "      <th>id_country</th>\n",
       "      <th>country_name</th>\n",
       "    </tr>\n",
       "  </thead>\n",
       "  <tbody>\n",
       "    <tr>\n",
       "      <th>0</th>\n",
       "      <td>1</td>\n",
       "      <td>2024-03-01</td>\n",
       "      <td>116</td>\n",
       "      <td>1</td>\n",
       "      <td>El Tiempo</td>\n",
       "      <td>1</td>\n",
       "      <td>Colombia</td>\n",
       "    </tr>\n",
       "    <tr>\n",
       "      <th>1</th>\n",
       "      <td>2</td>\n",
       "      <td>2024-03-02</td>\n",
       "      <td>111</td>\n",
       "      <td>1</td>\n",
       "      <td>El Tiempo</td>\n",
       "      <td>1</td>\n",
       "      <td>Colombia</td>\n",
       "    </tr>\n",
       "    <tr>\n",
       "      <th>2</th>\n",
       "      <td>3</td>\n",
       "      <td>2024-03-03</td>\n",
       "      <td>106</td>\n",
       "      <td>1</td>\n",
       "      <td>El Tiempo</td>\n",
       "      <td>1</td>\n",
       "      <td>Colombia</td>\n",
       "    </tr>\n",
       "    <tr>\n",
       "      <th>3</th>\n",
       "      <td>4</td>\n",
       "      <td>2024-03-04</td>\n",
       "      <td>119</td>\n",
       "      <td>1</td>\n",
       "      <td>El Tiempo</td>\n",
       "      <td>1</td>\n",
       "      <td>Colombia</td>\n",
       "    </tr>\n",
       "    <tr>\n",
       "      <th>4</th>\n",
       "      <td>5</td>\n",
       "      <td>2024-03-05</td>\n",
       "      <td>115</td>\n",
       "      <td>1</td>\n",
       "      <td>El Tiempo</td>\n",
       "      <td>1</td>\n",
       "      <td>Colombia</td>\n",
       "    </tr>\n",
       "  </tbody>\n",
       "</table>\n",
       "</div>"
      ]
     },
     "execution_count": 7,
     "metadata": {},
     "output_type": "execute_result"
    }
   ],
   "execution_count": 7
  },
  {
   "metadata": {
    "ExecuteTime": {
     "end_time": "2024-10-12T16:52:58.850336Z",
     "start_time": "2024-10-12T16:52:58.783149Z"
    }
   },
   "cell_type": "code",
   "source": [
    "# Step 2: Calculate Mean and Set a Threshold\n",
    "# Calculate the mean number of articles by day of the week\n",
    "mean_articles_by_day = data.groupby(data['publicate_date'].dt.day_name())['amount'].mean()\n",
    "print(\"Mean Articles by Day of the Week:\\n\", mean_articles_by_day)\n",
    "\n",
    "# Set a threshold at 80% of the mean\n",
    "thresholds = mean_articles_by_day * 0.8\n",
    "print(\"Thresholds (80% of Mean):\\n\", thresholds)\n",
    "\n"
   ],
   "id": "c138d0268254fd13",
   "outputs": [
    {
     "name": "stdout",
     "output_type": "stream",
     "text": [
      "Mean Articles by Day of the Week:\n",
      " publicate_date\n",
      "Friday       79.848485\n",
      "Monday       80.440104\n",
      "Saturday     79.721354\n",
      "Sunday       79.768229\n",
      "Thursday     80.039062\n",
      "Tuesday      80.390625\n",
      "Wednesday    79.859375\n",
      "Name: amount, dtype: float64\n",
      "Thresholds (80% of Mean):\n",
      " publicate_date\n",
      "Friday       63.878788\n",
      "Monday       64.352083\n",
      "Saturday     63.777083\n",
      "Sunday       63.814583\n",
      "Thursday     64.031250\n",
      "Tuesday      64.312500\n",
      "Wednesday    63.887500\n",
      "Name: amount, dtype: float64\n"
     ]
    }
   ],
   "execution_count": 8
  },
  {
   "metadata": {
    "ExecuteTime": {
     "end_time": "2024-10-12T16:54:44.595979Z",
     "start_time": "2024-10-12T16:54:44.548429Z"
    }
   },
   "cell_type": "code",
   "source": [
    "# Step 3: Calculate Coefficient of Variation\n",
    "# Group by newspaper type and calculate the coefficient of variation for each type\n",
    "cv = data.groupby('type_name')['amount'].apply(lambda x: np.std(x) / np.mean(x))\n",
    "print(\"Coefficient of Variation by Newspaper Type:\\n\", cv)\n"
   ],
   "id": "8ce272fc6647ea26",
   "outputs": [
    {
     "name": "stdout",
     "output_type": "stream",
     "text": [
      "Coefficient of Variation by Newspaper Type:\n",
      " type_name\n",
      "Clarín                0.089187\n",
      "El Comercio           0.067523\n",
      "El Espectador         0.085244\n",
      "El Tiempo             0.053701\n",
      "El Universo           0.060637\n",
      "Estadão               0.076045\n",
      "Folha de São Paulo    0.087775\n",
      "La Hora               0.050686\n",
      "La Nación             0.117845\n",
      "O Globo               0.056168\n",
      "Página/12             0.144579\n",
      "Semana                0.113098\n",
      "Name: amount, dtype: float64\n"
     ]
    }
   ],
   "execution_count": 9
  },
  {
   "metadata": {
    "ExecuteTime": {
     "end_time": "2024-10-12T16:55:40.326505Z",
     "start_time": "2024-10-12T16:55:40.293588Z"
    }
   },
   "cell_type": "code",
   "source": [
    "# Step 4: Frequency Distribution Analysis\n",
    "# Create a frequency distribution of the 'amount' column\n",
    "amount_distribution = data['amount'].value_counts().sort_index()\n",
    "print(\"Frequency Distribution of Article Amounts:\\n\", amount_distribution)\n"
   ],
   "id": "77b8268bceb95a60",
   "outputs": [
    {
     "name": "stdout",
     "output_type": "stream",
     "text": [
      "Frequency Distribution of Article Amounts:\n",
      " amount\n",
      "30      2\n",
      "31     15\n",
      "32      8\n",
      "33     13\n",
      "34     11\n",
      "       ..\n",
      "126    16\n",
      "127     9\n",
      "128     6\n",
      "129     8\n",
      "130    11\n",
      "Name: count, Length: 101, dtype: int64\n"
     ]
    }
   ],
   "execution_count": 10
  },
  {
   "metadata": {
    "ExecuteTime": {
     "end_time": "2024-10-12T16:56:00.155478Z",
     "start_time": "2024-10-12T16:55:58.711612Z"
    }
   },
   "cell_type": "code",
   "source": [
    "# Plot Frequency Distribution\n",
    "plt.figure(figsize=(10, 6))\n",
    "plt.bar(amount_distribution.index, amount_distribution.values)\n",
    "plt.title('Frequency Distribution of Article Amounts')\n",
    "plt.xlabel('Amount of Articles')\n",
    "plt.ylabel('Frequency')\n",
    "plt.show()\n"
   ],
   "id": "7a5cf15118c2ab2a",
   "outputs": [
    {
     "data": {
      "text/plain": [
       "<Figure size 1000x600 with 1 Axes>"
      ],
      "image/png": "[encoded data removed]"
     },
     "metadata": {},
     "output_type": "display_data"
    }
   ],
   "execution_count": 11
  }
 ],
 "metadata": {
  "kernelspec": {
   "display_name": "Python 3",
   "language": "python",
   "name": "python3"
  },
  "language_info": {
   "codemirror_mode": {
    "name": "ipython",
    "version": 2
   },
   "file_extension": ".py",
   "mimetype": "text/x-python",
   "name": "python",
   "nbconvert_exporter": "python",
   "pygments_lexer": "ipython2",
   "version": "2.7.6"
  }
 },
 "nbformat": 4,
 "nbformat_minor": 5
}
